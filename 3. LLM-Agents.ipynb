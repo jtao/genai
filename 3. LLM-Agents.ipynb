{
  "cells": [
    {
      "cell_type": "markdown",
      "metadata": {
        "id": "view-in-github",
        "colab_type": "text"
      },
      "source": [
        "<a href=\"https://colab.research.google.com/github/jtao/genai/blob/main/3.%20LLM-Agents.ipynb\" target=\"_parent\"><img src=\"https://colab.research.google.com/assets/colab-badge.svg\" alt=\"Open In Colab\"/></a>"
      ]
    },
    {
      "cell_type": "markdown",
      "metadata": {
        "id": "LI2LNldkMjeo"
      },
      "source": [
        "# LLM Agents with LangChain\n",
        "\n",
        "LangChain is a powerful framework for developing applications powered by language models. It allows us to create agents that can use tools and make decisions based on natural language inputs.\n",
        "\n",
        "### Setup\n",
        "\n",
        "First, let's install the necessary packages:"
      ]
    },
    {
      "cell_type": "code",
      "execution_count": null,
      "metadata": {
        "id": "JVD7TJIhMjep"
      },
      "outputs": [],
      "source": [
        "!pip install -q langchain openai langchain-community langchain-openai langchain-experimental"
      ]
    },
    {
      "cell_type": "markdown",
      "metadata": {
        "id": "4Kr2Q4vgMjep"
      },
      "source": [
        "Now, let's set up some CSS styling for better output display:"
      ]
    },
    {
      "cell_type": "code",
      "execution_count": null,
      "metadata": {
        "id": "mW7NLGBOMjeq"
      },
      "outputs": [],
      "source": [
        "from IPython.display import HTML, display\n",
        "\n",
        "def set_css():\n",
        "    display(HTML('''\n",
        "    <style>\n",
        "        pre {\n",
        "            white-space: pre-wrap;\n",
        "        }\n",
        "    </style>\n",
        "    '''))\n",
        "get_ipython().events.register('pre_run_cell', set_css)"
      ]
    },
    {
      "cell_type": "markdown",
      "metadata": {
        "id": "xQrGk122Mjeq"
      },
      "source": [
        "### Creating a NASA Agent\n",
        "\n",
        "We'll create an agent that can interact with NASA's API to find and display information about space:"
      ]
    },
    {
      "cell_type": "code",
      "execution_count": null,
      "metadata": {
        "id": "vcW7ph3hMjeq"
      },
      "outputs": [],
      "source": [
        "from langchain.agents import AgentType, initialize_agent\n",
        "from langchain_community.agent_toolkits.nasa.toolkit import NasaToolkit\n",
        "from langchain_community.utilities.nasa import NasaAPIWrapper\n",
        "from langchain_openai import ChatOpenAI\n",
        "from google.colab import userdata\n",
        "\n",
        "# Initialize the OpenAI model\n",
        "llm = ChatOpenAI(temperature=0, openai_api_key=userdata.get('OPENAI_API_KEY'), model_name=\"gpt-4-turbo\")\n",
        "\n",
        "# Set up the NASA toolkit\n",
        "nasa = NasaAPIWrapper()\n",
        "toolkit = NasaToolkit.from_nasa_api_wrapper(nasa)\n",
        "\n",
        "# Initialize the agent\n",
        "agent = initialize_agent(\n",
        "    toolkit.get_tools(), llm, agent=AgentType.ZERO_SHOT_REACT_DESCRIPTION, verbose=True, handle_parsing_errors=True\n",
        ")\n",
        "\n",
        "# Use the NASA agent to find moon pictures\n",
        "response = agent.run(\"\"\"\n",
        "    Can you find three pictures of the moon published between the years 2014 and 2020?\n",
        "    Give me the two links to the images.\n",
        "    \"\"\")\n",
        "\n",
        "print(response)"
      ]
    },
    {
      "cell_type": "markdown",
      "metadata": {
        "id": "CH-LA9XtNIJh"
      },
      "source": []
    },
    {
      "cell_type": "code",
      "execution_count": null,
      "metadata": {
        "id": "ypxnfOtgNIru"
      },
      "outputs": [],
      "source": [
        "from langchain.agents import Tool\n",
        "from langchain_experimental.utilities import PythonREPL\n",
        "python_repl = PythonREPL()\n",
        "\n",
        "# You can create the tool to pass to an agent\n",
        "repl_tool = Tool(\n",
        "    name=\"python_repl\",\n",
        "    description=\"A Python shell. Use this to execute python commands. Input should be a valid python command. If you want to see the output of a value, you should print it out with `print(...)`.\",\n",
        "    func=python_repl.run,\n",
        ")\n",
        "\n",
        "agent = initialize_agent(\n",
        "    [repl_tool], llm, agent=AgentType.ZERO_SHOT_REACT_DESCRIPTION, verbose=True, handle_parsing_errors=True\n",
        ")\n"
      ]
    },
    {
      "cell_type": "code",
      "execution_count": null,
      "metadata": {
        "id": "gM2egxgdNJdZ"
      },
      "outputs": [],
      "source": [
        "agent(\"\"\"\n",
        "  Solve the 2D Poisson Eqn in a 5x5 grid with an interesting BC, plot the results with seaborn to show the waves\n",
        "\"\"\")"
      ]
    },
    {
      "cell_type": "markdown",
      "metadata": {
        "id": "cUiTEVNiMjeq"
      },
      "source": [
        "This agent demonstrates how LangChain can be used to create task-specific agents that interact with external APIs and process natural language requests."
      ]
    }
  ],
  "metadata": {
    "colab": {
      "provenance": [],
      "include_colab_link": true
    },
    "kernelspec": {
      "display_name": "Python 3",
      "name": "python3"
    },
    "language_info": {
      "name": "python"
    },
    "orig_nbformat": 4
  },
  "nbformat": 4,
  "nbformat_minor": 0
}